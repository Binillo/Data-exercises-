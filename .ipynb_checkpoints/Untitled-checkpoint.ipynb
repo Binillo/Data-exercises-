{
 "cells": [
  {
   "cell_type": "markdown",
   "id": "72b4fce8-6ebb-42f3-98a7-e06b1a17e0ce",
   "metadata": {},
   "source": [
    "## Test\n",
    "\n",
    "this is a project for testing jupyter"
   ]
  },
  {
   "cell_type": "code",
   "execution_count": 2,
   "id": "f1d034b2-ac54-4759-a32a-1593d224efdd",
   "metadata": {},
   "outputs": [
    {
     "name": "stderr",
     "output_type": "stream",
     "text": [
      "Matplotlib is building the font cache; this may take a moment.\n"
     ]
    }
   ],
   "source": [
    "import pandas as pd\n",
    "import numpy as np\n",
    "import matplotlib.pyplot as plt\n",
    "import sklearn "
   ]
  },
  {
   "cell_type": "code",
   "execution_count": 1,
   "id": "ee338dbe-a3b4-4c30-915e-4c3b5f745bca",
   "metadata": {},
   "outputs": [
    {
     "name": "stdout",
     "output_type": "stream",
     "text": [
      "hello\n"
     ]
    }
   ],
   "source": [
    "print(\"hello\")"
   ]
  },
  {
   "cell_type": "code",
   "execution_count": null,
   "id": "669259f7-9868-490a-bb93-65ad758a0b65",
   "metadata": {},
   "outputs": [],
   "source": []
  }
 ],
 "metadata": {
  "kernelspec": {
   "display_name": "Python 3 (ipykernel)",
   "language": "python",
   "name": "python3"
  },
  "language_info": {
   "codemirror_mode": {
    "name": "ipython",
    "version": 3
   },
   "file_extension": ".py",
   "mimetype": "text/x-python",
   "name": "python",
   "nbconvert_exporter": "python",
   "pygments_lexer": "ipython3",
   "version": "3.13.5"
  }
 },
 "nbformat": 4,
 "nbformat_minor": 5
}
